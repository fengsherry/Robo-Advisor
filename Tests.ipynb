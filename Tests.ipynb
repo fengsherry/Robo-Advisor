{
  "cells": [
    {
      "cell_type": "code",
      "execution_count": null,
      "id": "4a3f8a43",
      "metadata": {
        "id": "4a3f8a43"
      },
      "outputs": [],
      "source": [
        "# hellooo"
      ]
    },
    {
      "cell_type": "code",
      "execution_count": 2,
      "id": "74e9319c",
      "metadata": {
        "colab": {
          "base_uri": "https://localhost:8080/"
        },
        "id": "74e9319c",
        "outputId": "80965e6b-4765-44f2-8257-19de7d11f3cf"
      },
      "outputs": [
        {
          "output_type": "stream",
          "name": "stdout",
          "text": [
            "hello world\n"
          ]
        }
      ],
      "source": [
        "print (\"hello world\")"
      ]
    }
  ],
  "metadata": {
    "kernelspec": {
      "display_name": "venv",
      "language": "python",
      "name": "venv"
    },
    "language_info": {
      "codemirror_mode": {
        "name": "ipython",
        "version": 3
      },
      "file_extension": ".py",
      "mimetype": "text/x-python",
      "name": "python",
      "nbconvert_exporter": "python",
      "pygments_lexer": "ipython3",
      "version": "3.9.12"
    },
    "colab": {
      "provenance": []
    }
  },
  "nbformat": 4,
  "nbformat_minor": 5
}