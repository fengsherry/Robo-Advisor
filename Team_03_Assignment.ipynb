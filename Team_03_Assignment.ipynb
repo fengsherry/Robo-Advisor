{
 "cells": [
  {
   "cell_type": "code",
   "execution_count": 1,
   "metadata": {},
   "outputs": [],
   "source": [
    "from IPython.display import display, Math, Latex\n",
    "\n",
    "import pandas as pd\n",
    "import numpy as np\n",
    "import numpy_financial as npf\n",
    "import yfinance as yf\n",
    "import matplotlib.pyplot as plt\n",
    "from datetime import datetime"
   ]
  },
  {
   "cell_type": "markdown",
   "metadata": {},
   "source": [
    "## Group Assignment\n",
    "### Team Number: 03\n",
    "### Team Member Names: Sherry, Kelly, Ifan\n",
    "### Team Strategy Chosen: SAFE"
   ]
  },
  {
   "cell_type": "code",
   "execution_count": null,
   "metadata": {},
   "outputs": [
    {
     "name": "stdout",
     "output_type": "stream",
     "text": [
      "- AGN: No data found, symbol may be delisted\n",
      "- CELG: No data found, symbol may be delisted\n",
      "- PCLN: No data found for this date range, symbol may be delisted\n",
      "- RTN: No data found, symbol may be delisted\n"
     ]
    }
   ],
   "source": [
    "tickers_df = pd.read_csv('Tickers_Example.csv')\n",
    "#When the CSV file is read, it takes the first ticker and makes it the name of the column, so we need to extract it\n",
    "tickers_list = list(tickers_df.columns)\n",
    "#Now add the rest of the tickers in after it:\n",
    "tickers_list += tickers_df.iloc[:, 0].tolist()\n",
    "tickers_num = len(tickers_list)\n",
    "\n",
    "#Dates to pull closing data from, change as needed\n",
    "start_date = '2020-01-01'\n",
    "end_date = '2022-01-02'\n",
    "\n",
    "# Dictionary of all the stocks\n",
    "stocks_dict = {}\n",
    "stocks_full_info = {}\n",
    "\n",
    "# Function produces the daily closing prices of a stock\n",
    "def get_closing_prices(ticker, start, end):\n",
    "    stock = yf.Ticker(ticker)\n",
    "    hist = stock.history(start=start, end=end) #Daily\n",
    "    return hist.Close\n",
    "\n",
    "for i in range (tickers_num):\n",
    "    stocks_dict[tickers_list[i]] = get_closing_prices(tickers_list[i], start_date, end_date)\n",
    "    stocks_full_info[tickers_list[i]] = yf.Ticker(tickers_list[i])\n",
    "\n",
    "# Create DataFrame\n",
    "all_prices = pd.DataFrame(stocks_dict)\n",
    "\n",
    "#Some tickers are delisted, so we drop those columns entirely\n",
    "for i in range (tickers_num):\n",
    "    if all_prices[tickers_list[i]].isnull().all():\n",
    "        all_prices.drop(columns=[tickers_list[i]], inplace=True)\n",
    "\n",
    "#Drop the rows at the bottom of the DataFrame where only a few stocks have values and where the dates are strange\n",
    "all_prices = all_prices.dropna() \n",
    "\n",
    "#Display the entire DataFrame, so that we can manually check to make sure the values are sensible\n",
    "with pd.option_context('display.max_rows', None, 'display.max_columns', None):\n",
    "    display(all_prices)"
   ]
  },
  {
   "cell_type": "code",
   "execution_count": 3,
   "metadata": {},
   "outputs": [
    {
     "ename": "KeyError",
     "evalue": "0",
     "output_type": "error",
     "traceback": [
      "\u001b[0;31m---------------------------------------------------------------------------\u001b[0m",
      "\u001b[0;31mKeyError\u001b[0m                                  Traceback (most recent call last)",
      "\u001b[1;32m/Users/sherryfeng/CFM-Group-Assignment/Team_XX_Assignment.ipynb Cell 4\u001b[0m in \u001b[0;36m<cell line: 39>\u001b[0;34m()\u001b[0m\n\u001b[1;32m     <a href='vscode-notebook-cell:/Users/sherryfeng/CFM-Group-Assignment/Team_XX_Assignment.ipynb#X12sZmlsZQ%3D%3D?line=34'>35</a>\u001b[0m     return_df \u001b[39m=\u001b[39m df\u001b[39m.\u001b[39mT\n\u001b[1;32m     <a href='vscode-notebook-cell:/Users/sherryfeng/CFM-Group-Assignment/Team_XX_Assignment.ipynb#X12sZmlsZQ%3D%3D?line=36'>37</a>\u001b[0m     \u001b[39mreturn\u001b[39;00m return_df\n\u001b[0;32m---> <a href='vscode-notebook-cell:/Users/sherryfeng/CFM-Group-Assignment/Team_XX_Assignment.ipynb#X12sZmlsZQ%3D%3D?line=38'>39</a>\u001b[0m all_prices \u001b[39m=\u001b[39m all_prices\u001b[39m.\u001b[39mloc[filter_market(all_prices)]\n\u001b[1;32m     <a href='vscode-notebook-cell:/Users/sherryfeng/CFM-Group-Assignment/Team_XX_Assignment.ipynb#X12sZmlsZQ%3D%3D?line=39'>40</a>\u001b[0m all_prices \u001b[39m=\u001b[39m all_prices\u001b[39m.\u001b[39mloc[filter_volume(all_prices)]\n\u001b[1;32m     <a href='vscode-notebook-cell:/Users/sherryfeng/CFM-Group-Assignment/Team_XX_Assignment.ipynb#X12sZmlsZQ%3D%3D?line=41'>42</a>\u001b[0m \u001b[39m# Drops stocks with more than specified number of NaN values\u001b[39;00m\n",
      "\u001b[1;32m/Users/sherryfeng/CFM-Group-Assignment/Team_XX_Assignment.ipynb Cell 4\u001b[0m in \u001b[0;36mfilter_market\u001b[0;34m(df)\u001b[0m\n\u001b[1;32m      <a href='vscode-notebook-cell:/Users/sherryfeng/CFM-Group-Assignment/Team_XX_Assignment.ipynb#X12sZmlsZQ%3D%3D?line=4'>5</a>\u001b[0m df_transposed \u001b[39m=\u001b[39m df\u001b[39m.\u001b[39mT\n\u001b[1;32m      <a href='vscode-notebook-cell:/Users/sherryfeng/CFM-Group-Assignment/Team_XX_Assignment.ipynb#X12sZmlsZQ%3D%3D?line=5'>6</a>\u001b[0m \u001b[39mfor\u001b[39;00m i \u001b[39min\u001b[39;00m \u001b[39mrange\u001b[39m(\u001b[39mlen\u001b[39m(df_transposed)):\n\u001b[1;32m      <a href='vscode-notebook-cell:/Users/sherryfeng/CFM-Group-Assignment/Team_XX_Assignment.ipynb#X12sZmlsZQ%3D%3D?line=6'>7</a>\u001b[0m     \u001b[39m# Add country of market as a column to dataframe\u001b[39;00m\n\u001b[0;32m----> <a href='vscode-notebook-cell:/Users/sherryfeng/CFM-Group-Assignment/Team_XX_Assignment.ipynb#X12sZmlsZQ%3D%3D?line=7'>8</a>\u001b[0m     df_transposed[\u001b[39m\"\u001b[39m\u001b[39mMarket\u001b[39m\u001b[39m\"\u001b[39m]\u001b[39m.\u001b[39miloc[i] \u001b[39m=\u001b[39m stocks_full_info[i]\u001b[39m.\u001b[39minfo[\u001b[39m'\u001b[39m\u001b[39mmarket\u001b[39m\u001b[39m'\u001b[39m]\n\u001b[1;32m     <a href='vscode-notebook-cell:/Users/sherryfeng/CFM-Group-Assignment/Team_XX_Assignment.ipynb#X12sZmlsZQ%3D%3D?line=9'>10</a>\u001b[0m \u001b[39m# Drops the stocks in markets that are not in the U.S\u001b[39;00m\n\u001b[1;32m     <a href='vscode-notebook-cell:/Users/sherryfeng/CFM-Group-Assignment/Team_XX_Assignment.ipynb#X12sZmlsZQ%3D%3D?line=10'>11</a>\u001b[0m df_transposed\u001b[39m.\u001b[39mdrop(df_transposed[df_transposed\u001b[39m.\u001b[39mMarket \u001b[39m!=\u001b[39m \u001b[39m\"\u001b[39m\u001b[39mus_market\u001b[39m\u001b[39m\"\u001b[39m]\u001b[39m.\u001b[39mindex, inplace\u001b[39m=\u001b[39m\u001b[39mTrue\u001b[39;00m)\n",
      "\u001b[0;31mKeyError\u001b[0m: 0"
     ]
    }
   ],
   "source": [
    "## doesnt work yet \n",
    "# Remove invalid stocks per assignment requirement (ones outside of the U.S & ones with average monthly volume of less than 200,000 shares)\n",
    "\n",
    "def filter_market(df):\n",
    "    df_transposed = df.T\n",
    "    for i in range(len(df_transposed)):\n",
    "        # Add country of market as a column to dataframe\n",
    "        df_transposed[\"Market\"].iloc[i] = stocks_full_info[i].info['market']\n",
    "    \n",
    "    # Drops the stocks in markets that are not in the U.S\n",
    "    df_transposed.drop(df_transposed[df_transposed.Market != \"us_market\"].index, inplace=True)\n",
    "    df_transposed = df_transposed.drop('Market', axis=1)\n",
    "    return_df = df.T\n",
    "\n",
    "    return return_df\n",
    "\n",
    "\n",
    "def filter_volume(df):\n",
    "\n",
    "    start = \"2022-01-01\"\n",
    "    end = \"2022-10-31\"\n",
    "\n",
    "    df_transposed = df.T\n",
    "\n",
    "    for i in range(len(df_transposed)):\n",
    "        ticker = yf.Ticker(df_transposed.iloc[i])\n",
    "        ticker_hist = ticker.history(start=start, end=end)\n",
    "\n",
    "        volume_hist = ticker_hist.loc[(ticker_hist.index >= pd.to_datetime(start)) & (ticker_hist.index <= pd.to_datetime(end))]\n",
    "        df_transposed[\"Volume\"].iloc[i] = (volume_hist.info['averageDailyVolume10Day'].mean())*3\n",
    "\n",
    "    # Drops the stocks with volumes less than average monthly volume of 200,000\n",
    "    df_transposed.drop(df_transposed[df_transposed.Volume < 200000].index, inplace=True)\n",
    "    df_transposed = df_transposed.drop('Volume', axis=1)\n",
    "    return_df = df.T\n",
    "\n",
    "    return return_df\n",
    "\n",
    "all_prices = all_prices.loc[filter_market(all_prices)]\n",
    "all_prices = all_prices.loc[filter_volume(all_prices)]\n",
    "\n",
    "# Drops stocks with more than specified number of NaN values\n",
    "max_number_of_nans = 20\n",
    "all_prices = all_prices.loc[:, (all_prices.isnull().sum(axis=0) <= max_number_of_nans)]\n"
   ]
  },
  {
   "cell_type": "code",
   "execution_count": 1,
   "metadata": {},
   "outputs": [],
   "source": [
    "# Calculate BETA against S&P500\n",
    "def stock_beta(df_column):\n",
    "\n",
    "    index_ticker = yf.Ticker('SPY')\n",
    "    index_prices = index_ticker.history(start=df_column.index[0], end=df_column.index[(len(df_column))])\n",
    "\n",
    "    # Will need to double check this equation\n",
    "    market_var= index_prices.var()\n",
    "    beta = df_column.cov()/market_var\n",
    "    \n",
    "    return beta"
   ]
  },
  {
   "cell_type": "markdown",
   "metadata": {},
   "source": [
    "## Contribution Declaration\n",
    "\n",
    "The following team members made a meaningful contribution to this assignment:\n",
    "\n",
    "Insert Names Here."
   ]
  }
 ],
 "metadata": {
  "kernelspec": {
   "display_name": "Python 3 (ipykernel)",
   "language": "python",
   "name": "python3"
  },
  "language_info": {
   "codemirror_mode": {
    "name": "ipython",
    "version": 3
   },
   "file_extension": ".py",
   "mimetype": "text/x-python",
   "name": "python",
   "nbconvert_exporter": "python",
   "pygments_lexer": "ipython3",
   "version": "3.9.12"
  },
  "toc-autonumbering": false,
  "toc-showcode": false,
  "toc-showmarkdowntxt": false,
  "toc-showtags": false,
  "vscode": {
   "interpreter": {
    "hash": "cd78fef2128015050713e82ca51c6520b11aee7c9ee8df750520bbbc7384cbaa"
   }
  }
 },
 "nbformat": 4,
 "nbformat_minor": 4
}
